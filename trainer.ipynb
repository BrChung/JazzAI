{
  "nbformat": 4,
  "nbformat_minor": 0,
  "metadata": {
    "colab": {
      "name": "Music Generator FINAL.ipynb",
      "provenance": [],
      "machine_shape": "hm"
    },
    "kernelspec": {
      "name": "python3",
      "display_name": "Python 3"
    },
    "accelerator": "GPU"
  },
  "cells": [
    {
      "cell_type": "code",
      "metadata": {
        "colab": {
          "base_uri": "https://localhost:8080/"
        },
        "id": "Pb8uhk9lAp_3",
        "outputId": "da6972cd-b7ad-4670-8a8b-f0dd6cd14eb0"
      },
      "source": [
        "!unzip midi.zip"
      ],
      "execution_count": null,
      "outputs": [
        {
          "output_type": "stream",
          "text": [
            "Archive:  midi.zip\n",
            "   creating: midi/\n",
            "  inflating: midi/Very Early solo piano.mid  \n",
            "  inflating: __MACOSX/midi/._Very Early solo piano.mid  \n",
            "  inflating: midi/shinystockings.mid  \n",
            "  inflating: __MACOSX/midi/._shinystockings.mid  \n",
            "  inflating: midi/I Fall in Love v2.mid  \n",
            "  inflating: __MACOSX/midi/._I Fall in Love v2.mid  \n",
            "  inflating: midi/What is this thing - solo.mid  \n",
            "  inflating: __MACOSX/midi/._What is this thing - solo.mid  \n",
            "  inflating: midi/Day Dream.mid      \n",
            "  inflating: __MACOSX/midi/._Day Dream.mid  \n",
            "  inflating: midi/SweetWay3.mid      \n",
            "  inflating: __MACOSX/midi/._SweetWay3.mid  \n",
            "  inflating: midi/something wonderful.mid  \n",
            "  inflating: __MACOSX/midi/._something wonderful.mid  \n",
            "  inflating: midi/Where is Love - solo.mid  \n",
            "  inflating: __MACOSX/midi/._Where is Love - solo.mid  \n",
            "  inflating: midi/Mean to Me.mid     \n",
            "  inflating: __MACOSX/midi/._Mean to Me.mid  \n",
            "  inflating: midi/By The Time.mid    \n",
            "  inflating: __MACOSX/midi/._By The Time.mid  \n",
            "  inflating: midi/Stella solo.mid    \n",
            "  inflating: __MACOSX/midi/._Stella solo.mid  \n",
            "  inflating: midi/Cast Your Fate.mid  \n",
            "  inflating: __MACOSX/midi/._Cast Your Fate.mid  \n",
            "  inflating: midi/Mad About the Boy.mid  \n",
            "  inflating: __MACOSX/midi/._Mad About the Boy.mid  \n",
            "  inflating: midi/Its theTalk Of The Town - solo.mid  \n",
            "  inflating: __MACOSX/midi/._Its theTalk Of The Town - solo.mid  \n",
            "  inflating: midi/Shenandoah.mid     \n",
            "  inflating: __MACOSX/midi/._Shenandoah.mid  \n",
            "  inflating: midi/Alabama.mid        \n",
            "  inflating: __MACOSX/midi/._Alabama.mid  \n",
            "  inflating: midi/Prelude1.mid       \n",
            "  inflating: __MACOSX/midi/._Prelude1.mid  \n",
            "  inflating: midi/PeacePiece.mid     \n",
            "  inflating: __MACOSX/midi/._PeacePiece.mid  \n",
            "  inflating: midi/Irememberyousolo.mid  \n",
            "  inflating: __MACOSX/midi/._Irememberyousolo.mid  \n",
            "  inflating: midi/Thingsaintwhattheyusedtobe.mid  \n",
            "  inflating: __MACOSX/midi/._Thingsaintwhattheyusedtobe.mid  \n",
            "  inflating: midi/Whilewereyoung.mid  \n",
            "  inflating: __MACOSX/midi/._Whilewereyoung.mid  \n",
            "  inflating: midi/WhoCanI.mid        \n",
            "  inflating: __MACOSX/midi/._WhoCanI.mid  \n",
            "  inflating: midi/Its Easy to Remember.mid  \n",
            "  inflating: __MACOSX/midi/._Its Easy to Remember.mid  \n",
            "  inflating: midi/Sweetlorraine.mid  \n",
            "  inflating: __MACOSX/midi/._Sweetlorraine.mid  \n",
            "  inflating: midi/Merry XMas.mid     \n",
            "  inflating: __MACOSX/midi/._Merry XMas.mid  \n",
            "  inflating: midi/Love Walked In.mid  \n",
            "  inflating: __MACOSX/midi/._Love Walked In.mid  \n",
            "  inflating: midi/Love Walked.mid    \n",
            "  inflating: __MACOSX/midi/._Love Walked.mid  \n",
            "  inflating: midi/AHouseis.mid       \n",
            "  inflating: __MACOSX/midi/._AHouseis.mid  \n",
            "  inflating: midi/turnoutthestars.mid  \n",
            "  inflating: __MACOSX/midi/._turnoutthestars.mid  \n",
            "  inflating: midi/Green Dolph solo.mid  \n",
            "  inflating: __MACOSX/midi/._Green Dolph solo.mid  \n",
            "  inflating: midi/Moonlight in Vermont.mid  \n",
            "  inflating: __MACOSX/midi/._Moonlight in Vermont.mid  \n",
            "  inflating: midi/This Time the Dreams on Me.mid  \n",
            "  inflating: __MACOSX/midi/._This Time the Dreams on Me.mid  \n",
            "  inflating: midi/whydidi.mid        \n",
            "  inflating: __MACOSX/midi/._whydidi.mid  \n",
            "  inflating: midi/This nearly was mine.mid  \n",
            "  inflating: __MACOSX/midi/._This nearly was mine.mid  \n",
            "  inflating: midi/Witchcraft.mid     \n",
            "  inflating: __MACOSX/midi/._Witchcraft.mid  \n",
            "  inflating: midi/ForSentimentalReasons.mid  \n",
            "  inflating: __MACOSX/midi/._ForSentimentalReasons.mid  \n",
            "  inflating: midi/Come Rain or Come Shine V1.mid  \n",
            "  inflating: __MACOSX/midi/._Come Rain or Come Shine V1.mid  \n",
            "  inflating: midi/Clifford2.mid      \n",
            "  inflating: __MACOSX/midi/._Clifford2.mid  \n",
            "  inflating: midi/DancingontheCeiling.mid  \n",
            "  inflating: __MACOSX/midi/._DancingontheCeiling.mid  \n",
            "  inflating: midi/Long ago and far away.mid  \n",
            "  inflating: __MACOSX/midi/._Long ago and far away.mid  \n",
            "  inflating: midi/youtookadvantageofme.mid  \n",
            "  inflating: __MACOSX/midi/._youtookadvantageofme.mid  \n",
            "  inflating: midi/Goin__Home_(Real_Time)_(Antonin_Dvorak).mid  \n",
            "  inflating: __MACOSX/midi/._Goin__Home_(Real_Time)_(Antonin_Dvorak).mid  \n",
            "  inflating: midi/Itdon_tmeanathing.mid  \n",
            "  inflating: __MACOSX/midi/._Itdon_tmeanathing.mid  \n",
            "  inflating: midi/TheManThatGotAway.mid  \n",
            "  inflating: __MACOSX/midi/._TheManThatGotAway.mid  \n",
            "  inflating: midi/Bess You Is.mid    \n",
            "  inflating: __MACOSX/midi/._Bess You Is.mid  \n",
            "  inflating: midi/sixteengoing.mid   \n",
            "  inflating: __MACOSX/midi/._sixteengoing.mid  \n",
            "  inflating: midi/Clifford1.mid      \n",
            "  inflating: __MACOSX/midi/._Clifford1.mid  \n",
            "  inflating: midi/My Shining Hour.mid  \n",
            "  inflating: __MACOSX/midi/._My Shining Hour.mid  \n",
            "  inflating: midi/TheSongisYoutrio.mid  \n",
            "  inflating: __MACOSX/midi/._TheSongisYoutrio.mid  \n",
            "  inflating: midi/SomeDayMy.mid      \n",
            "  inflating: __MACOSX/midi/._SomeDayMy.mid  \n",
            "  inflating: midi/Lady Be Good.mid   \n",
            "  inflating: __MACOSX/midi/._Lady Be Good.mid  \n",
            "  inflating: midi/taketheatrain.mid  \n",
            "  inflating: __MACOSX/midi/._taketheatrain.mid  \n",
            "  inflating: midi/StrangeMeadowlark.mid  \n",
            "  inflating: __MACOSX/midi/._StrangeMeadowlark.mid  \n",
            "  inflating: midi/pentupHouse.mid    \n",
            "  inflating: __MACOSX/midi/._pentupHouse.mid  \n",
            "  inflating: midi/comesun.mid        \n",
            "  inflating: __MACOSX/midi/._comesun.mid  \n",
            "  inflating: midi/What is there to say.mid  \n",
            "  inflating: __MACOSX/midi/._What is there to say.mid  \n",
            "  inflating: midi/Some day My Prince.mid  \n",
            "  inflating: __MACOSX/midi/._Some day My Prince.mid  \n",
            "  inflating: midi/sonnymoo.mid       \n",
            "  inflating: __MACOSX/midi/._sonnymoo.mid  \n",
            "  inflating: midi/simplelife.mid     \n",
            "  inflating: __MACOSX/midi/._simplelife.mid  \n",
            "  inflating: midi/Out of Nowhere 1.mid  \n",
            "  inflating: __MACOSX/midi/._Out of Nowhere 1.mid  \n",
            "  inflating: midi/That Ole Devil Called Love.mid  \n",
            "  inflating: __MACOSX/midi/._That Ole Devil Called Love.mid  \n",
            "  inflating: midi/Man Gone.mid       \n",
            "  inflating: __MACOSX/midi/._Man Gone.mid  \n",
            "  inflating: midi/My Ship.mid        \n",
            "  inflating: __MACOSX/midi/._My Ship.mid  \n",
            "  inflating: midi/New Orleans.mid    \n",
            "  inflating: __MACOSX/midi/._New Orleans.mid  \n",
            "  inflating: midi/entertainer.mid    \n",
            "  inflating: __MACOSX/midi/._entertainer.mid  \n",
            "  inflating: midi/You Are So Beautiful The Grand.mid  \n",
            "  inflating: __MACOSX/midi/._You Are So Beautiful The Grand.mid  \n",
            "  inflating: midi/SqueezeMeSolo.mid  \n",
            "  inflating: __MACOSX/midi/._SqueezeMeSolo.mid  \n",
            "  inflating: midi/Out of Nowhere 2.mid  \n",
            "  inflating: __MACOSX/midi/._Out of Nowhere 2.mid  \n",
            "  inflating: midi/AfterYou.mid       \n",
            "  inflating: __MACOSX/midi/._AfterYou.mid  \n",
            "  inflating: midi/Detour ahead.mid   \n",
            "  inflating: __MACOSX/midi/._Detour ahead.mid  \n",
            "  inflating: midi/Rachid.mid         \n",
            "  inflating: __MACOSX/midi/._Rachid.mid  \n",
            "  inflating: midi/Renewaltrio.mid    \n",
            "  inflating: __MACOSX/midi/._Renewaltrio.mid  \n",
            "  inflating: midi/Warmvalleysolo.mid  \n",
            "  inflating: __MACOSX/midi/._Warmvalleysolo.mid  \n",
            "  inflating: midi/But Beautifulsolo.mid  \n",
            "  inflating: __MACOSX/midi/._But Beautifulsolo.mid  \n",
            "  inflating: midi/SoinLovesolo.mid   \n",
            "  inflating: __MACOSX/midi/._SoinLovesolo.mid  \n",
            "  inflating: midi/Some Other Time.mid  \n",
            "  inflating: __MACOSX/midi/._Some Other Time.mid  \n",
            "  inflating: midi/Serenata solo.mid  \n",
            "  inflating: __MACOSX/midi/._Serenata solo.mid  \n",
            "  inflating: midi/TheDuke.mid        \n",
            "  inflating: __MACOSX/midi/._TheDuke.mid  \n",
            "  inflating: midi/Dannyboy.mid       \n",
            "  inflating: __MACOSX/midi/._Dannyboy.mid  \n",
            "  inflating: midi/TakinAChanceOnLove.mid  \n",
            "  inflating: __MACOSX/midi/._TakinAChanceOnLove.mid  \n",
            "  inflating: midi/if i loved you.mid  \n",
            "  inflating: __MACOSX/midi/._if i loved you.mid  \n",
            "  inflating: midi/stormyweather.mid  \n",
            "  inflating: __MACOSX/midi/._stormyweather.mid  \n",
            "  inflating: midi/TooYoungtogoSteady.mid  \n",
            "  inflating: __MACOSX/midi/._TooYoungtogoSteady.mid  \n",
            "  inflating: midi/Answer me My Love.mid  \n",
            "  inflating: __MACOSX/midi/._Answer me My Love.mid  \n",
            "  inflating: midi/Peanut Vendor (El Manisero).mid  \n",
            "  inflating: __MACOSX/midi/._Peanut Vendor (El Manisero).mid  \n",
            "  inflating: midi/DeepPurple.mid     \n",
            "  inflating: __MACOSX/midi/._DeepPurple.mid  \n",
            "  inflating: midi/Remember - solo jazz piano.mid  \n",
            "  inflating: __MACOSX/midi/._Remember - solo jazz piano.mid  \n",
            "  inflating: midi/gonewind.mid       \n",
            "  inflating: __MACOSX/midi/._gonewind.mid  \n",
            "  inflating: midi/The End of a Love Affair.mid  \n",
            "  inflating: __MACOSX/midi/._The End of a Love Affair.mid  \n",
            "  inflating: midi/Blue room midi file.mid  \n",
            "  inflating: __MACOSX/midi/._Blue room midi file.mid  \n",
            "  inflating: midi/youhavechanged.mid  \n",
            "  inflating: __MACOSX/midi/._youhavechanged.mid  \n",
            "  inflating: midi/porgy2.mid         \n",
            "  inflating: __MACOSX/midi/._porgy2.mid  \n",
            "  inflating: midi/Kingandl.mid       \n",
            "  inflating: __MACOSX/midi/._Kingandl.mid  \n",
            "  inflating: midi/Skylark 2.mid      \n",
            "  inflating: __MACOSX/midi/._Skylark 2.mid  \n",
            "  inflating: midi/The folks who live on the hill.mid  \n",
            "  inflating: __MACOSX/midi/._The folks who live on the hill.mid  \n",
            "  inflating: midi/Eleanor Rigby.mid  \n",
            "  inflating: __MACOSX/midi/._Eleanor Rigby.mid  \n",
            "  inflating: midi/They say its wonderful.mid  \n",
            "  inflating: __MACOSX/midi/._They say its wonderful.mid  \n",
            "  inflating: midi/Autumn In NY.mid   \n",
            "  inflating: __MACOSX/midi/._Autumn In NY.mid  \n",
            "  inflating: midi/send in the clowns.mid  \n",
            "  inflating: __MACOSX/midi/._send in the clowns.mid  \n",
            "  inflating: midi/My Heart Stood Still.mid  \n",
            "  inflating: __MACOSX/midi/._My Heart Stood Still.mid  \n",
            "  inflating: midi/Icantgetstarted.mid  \n",
            "  inflating: __MACOSX/midi/._Icantgetstarted.mid  \n",
            "  inflating: midi/Cry me a river.mid  \n",
            "  inflating: __MACOSX/midi/._Cry me a river.mid  \n",
            "  inflating: midi/star eyes.mid      \n",
            "  inflating: __MACOSX/midi/._star eyes.mid  \n",
            "  inflating: midi/porgy1.mid         \n",
            "  inflating: __MACOSX/midi/._porgy1.mid  \n",
            "  inflating: midi/Young and Foolish.mid  \n",
            "  inflating: __MACOSX/midi/._Young and Foolish.mid  \n",
            "  inflating: midi/funny val solo.mid  \n",
            "  inflating: __MACOSX/midi/._funny val solo.mid  \n",
            "  inflating: midi/Love Letters.mid   \n",
            "  inflating: __MACOSX/midi/._Love Letters.mid  \n",
            "  inflating: midi/Strollin_.mid      \n",
            "  inflating: __MACOSX/midi/._Strollin_.mid  \n",
            "  inflating: midi/Just a Gigolo.mid  \n",
            "  inflating: __MACOSX/midi/._Just a Gigolo.mid  \n",
            "  inflating: midi/Chopin WaltzAb.mid  \n",
            "  inflating: __MACOSX/midi/._Chopin WaltzAb.mid  \n",
            "  inflating: midi/Aghostofachance.mid  \n",
            "  inflating: __MACOSX/midi/._Aghostofachance.mid  \n",
            "  inflating: midi/I_m Confessin_ - solo.mid  \n",
            "  inflating: __MACOSX/midi/._I_m Confessin_ - solo.mid  \n",
            "  inflating: midi/SophisticatedLady.mid  \n",
            "  inflating: __MACOSX/midi/._SophisticatedLady.mid  \n",
            "  inflating: midi/SammyWalked.mid    \n",
            "  inflating: __MACOSX/midi/._SammyWalked.mid  \n",
            "  inflating: midi/ILoveYou.mid       \n",
            "  inflating: __MACOSX/midi/._ILoveYou.mid  \n",
            "  inflating: midi/My one and only Love.mid  \n",
            "  inflating: __MACOSX/midi/._My one and only Love.mid  \n",
            "  inflating: midi/estate.mid         \n",
            "  inflating: __MACOSX/midi/._estate.mid  \n",
            "  inflating: midi/Georgia.mid        \n",
            "  inflating: __MACOSX/midi/._Georgia.mid  \n",
            "  inflating: midi/SoulEyessolo.mid   \n",
            "  inflating: __MACOSX/midi/._SoulEyessolo.mid  \n",
            "  inflating: midi/justfrien solo.mid  \n",
            "  inflating: __MACOSX/midi/._justfrien solo.mid  \n",
            "  inflating: midi/Mood Indigo.mid    \n",
            "  inflating: __MACOSX/midi/._Mood Indigo.mid  \n",
            "  inflating: midi/Recardo.mid        \n",
            "  inflating: __MACOSX/midi/._Recardo.mid  \n",
            "  inflating: midi/accustomeded.mid   \n",
            "  inflating: __MACOSX/midi/._accustomeded.mid  \n",
            "  inflating: midi/penthouse s.mid    \n",
            "  inflating: __MACOSX/midi/._penthouse s.mid  \n",
            "  inflating: midi/Sometimeago.mid    \n",
            "  inflating: __MACOSX/midi/._Sometimeago.mid  \n",
            "  inflating: midi/I Cover the Waterfront - solo.mid  \n",
            "  inflating: __MACOSX/midi/._I Cover the Waterfront - solo.mid  \n",
            "  inflating: midi/I fall in Love Too Easily.mid  \n",
            "  inflating: __MACOSX/midi/._I fall in Love Too Easily.mid  \n",
            "  inflating: midi/ARemark.mid        \n",
            "  inflating: __MACOSX/midi/._ARemark.mid  \n",
            "  inflating: midi/Begin The Beguine.mid  \n",
            "  inflating: __MACOSX/midi/._Begin The Beguine.mid  \n",
            "  inflating: midi/Dreamsville.mid    \n",
            "  inflating: __MACOSX/midi/._Dreamsville.mid  \n",
            "  inflating: midi/Speak Low (Doug McKenzie).mid  \n",
            "  inflating: __MACOSX/midi/._Speak Low (Doug McKenzie).mid  \n",
            "  inflating: midi/periscope.mid      \n",
            "  inflating: __MACOSX/midi/._periscope.mid  \n",
            "  inflating: midi/afine-1.MID        \n",
            "  inflating: __MACOSX/midi/._afine-1.MID  \n",
            "  inflating: midi/timerem2.mid       \n",
            "  inflating: __MACOSX/midi/._timerem2.mid  \n",
            "  inflating: midi/Time after Time 2.mid  \n",
            "  inflating: __MACOSX/midi/._Time after Time 2.mid  \n",
            "  inflating: midi/Since We Met Jazz Kit.mid  \n",
            "  inflating: __MACOSX/midi/._Since We Met Jazz Kit.mid  \n",
            "  inflating: midi/Danny Boy.mid      \n",
            "  inflating: __MACOSX/midi/._Danny Boy.mid  \n",
            "  inflating: midi/Pathetique.mid     \n",
            "  inflating: __MACOSX/midi/._Pathetique.mid  \n",
            "  inflating: midi/howdsolo.mid       \n",
            "  inflating: __MACOSX/midi/._howdsolo.mid  \n",
            "  inflating: midi/Pure Imagination.mid  \n",
            "  inflating: __MACOSX/midi/._Pure Imagination.mid  \n",
            "  inflating: midi/afine-2.mid        \n",
            "  inflating: __MACOSX/midi/._afine-2.mid  \n",
            "  inflating: midi/youdontknow trio.mid  \n",
            "  inflating: __MACOSX/midi/._youdontknow trio.mid  \n",
            "  inflating: midi/Don_t Explain solo.mid  \n",
            "  inflating: __MACOSX/midi/._Don_t Explain solo.mid  \n",
            "  inflating: midi/Little Girl Blue.mid  \n",
            "  inflating: __MACOSX/midi/._Little Girl Blue.mid  \n",
            "  inflating: midi/Try To Remember.mid  \n",
            "  inflating: __MACOSX/midi/._Try To Remember.mid  \n"
          ],
          "name": "stdout"
        }
      ]
    },
    {
      "cell_type": "code",
      "metadata": {
        "colab": {
          "base_uri": "https://localhost:8080/"
        },
        "id": "kx2LG9962sm4",
        "outputId": "48742628-b352-44f5-e6d2-3d6817cb6875"
      },
      "source": [
        "!pip install music21\n",
        "import glob\n",
        "import pickle\n",
        "import numpy\n",
        "import random\n",
        "from music21 import converter, instrument, note, chord\n",
        "from tensorflow.keras.models import Sequential\n",
        "from tensorflow.keras.layers import Dense, Dropout, LSTM, Activation, BatchNormalization as BatchNorm\n",
        "from tensorflow.keras.utils import to_categorical, plot_model\n",
        "from tensorflow.keras.callbacks import ModelCheckpoint\n",
        "from tqdm import tqdm"
      ],
      "execution_count": null,
      "outputs": [
        {
          "output_type": "stream",
          "text": [
            "Requirement already satisfied: music21 in /usr/local/lib/python3.6/dist-packages (5.5.0)\n"
          ],
          "name": "stdout"
        }
      ]
    },
    {
      "cell_type": "code",
      "metadata": {
        "colab": {
          "base_uri": "https://localhost:8080/"
        },
        "id": "6OeYC2mFAF5R",
        "outputId": "ebffaabf-a6bb-419e-a3fd-039aa463a900"
      },
      "source": [
        "notes = []\n",
        "path = \"midi\"\n",
        "\n",
        "for file in tqdm(glob.glob(f'{path}/*.mid')):\n",
        "    rand = random.uniform(0, 1)\n",
        "    \n",
        "    # Only train on 25% of the midi set\n",
        "    if (rand > 0.25):\n",
        "      continue\n",
        "\n",
        "    midi = converter.parse(file)\n",
        "    notes_to_parse = None\n",
        "\n",
        "    try:    # file has multiple instrument parts\n",
        "        s2 = instrument.partitionByInstrument(midi)\n",
        "        notes_to_parse = s2.parts[0].recurse() \n",
        "    except: # file has notes in a flat structure\n",
        "        notes_to_parse = midi.flat.notes\n",
        "\n",
        "    for element in notes_to_parse:\n",
        "        if isinstance(element, note.Note):\n",
        "            notes.append(str(element.pitch))\n",
        "        elif isinstance(element, chord.Chord):\n",
        "            notes.append('.'.join(str(n) for n in element.normalOrder))"
      ],
      "execution_count": null,
      "outputs": [
        {
          "output_type": "stream",
          "text": [
            "100%|██████████| 144/144 [00:12<00:00, 11.99it/s]\n"
          ],
          "name": "stderr"
        }
      ]
    },
    {
      "cell_type": "code",
      "metadata": {
        "id": "27V_G_13Ac5_"
      },
      "source": [
        "# Save Notes as Pickle\n",
        "with open('notes.pkl', 'wb') as note_file:\n",
        "    pickle.dump(notes, note_file)"
      ],
      "execution_count": null,
      "outputs": []
    },
    {
      "cell_type": "code",
      "metadata": {
        "id": "dR-qRsXT3bv7"
      },
      "source": [
        "# Load Notes from Pickle\n",
        "with open('notes.pkl', 'rb') as note_file:\n",
        "    notes = pickle.load(note_file)"
      ],
      "execution_count": null,
      "outputs": []
    },
    {
      "cell_type": "code",
      "metadata": {
        "colab": {
          "base_uri": "https://localhost:8080/"
        },
        "id": "e2oNKt1y_ukl",
        "outputId": "fab1a011-201f-4443-f337-d14f90e0bf20"
      },
      "source": [
        "n_vocab = len(set(notes))\n",
        "n_vocab"
      ],
      "execution_count": null,
      "outputs": [
        {
          "output_type": "execute_result",
          "data": {
            "text/plain": [
              "650"
            ]
          },
          "metadata": {
            "tags": []
          },
          "execution_count": 33
        }
      ]
    },
    {
      "cell_type": "code",
      "metadata": {
        "id": "jy02R6eVAxmG"
      },
      "source": [
        "# Set sequence length to 100\n",
        "sequence_length = 100\n",
        "\n",
        "\n",
        "pitchnames = sorted(set(item for item in notes))\n",
        "note_to_int = dict((note, number) for number, note in enumerate(pitchnames))\n",
        "\n",
        "network_input = []\n",
        "network_output = []\n",
        "\n",
        "\n",
        "for i in range(0, len(notes) - sequence_length, 1):\n",
        "    sequence_in = notes[i:i + sequence_length]\n",
        "    sequence_out = notes[i + sequence_length]\n",
        "    network_input.append([note_to_int[char] for char in sequence_in])\n",
        "    network_output.append(note_to_int[sequence_out])\n",
        "\n",
        "n_patterns = len(network_input)\n",
        "\n",
        "network_input = numpy.reshape(network_input, (n_patterns, sequence_length, 1))\n",
        "network_input = network_input / float(n_vocab)\n",
        "\n",
        "network_output = to_categorical(network_output)"
      ],
      "execution_count": null,
      "outputs": []
    },
    {
      "cell_type": "code",
      "metadata": {
        "colab": {
          "base_uri": "https://localhost:8080/"
        },
        "id": "1iuumDVSAyYJ",
        "outputId": "788c4c6b-f63f-458f-f476-d207fd99ed76"
      },
      "source": [
        "network_input.shape"
      ],
      "execution_count": null,
      "outputs": [
        {
          "output_type": "execute_result",
          "data": {
            "text/plain": [
              "(40539, 100, 1)"
            ]
          },
          "metadata": {
            "tags": []
          },
          "execution_count": 35
        }
      ]
    },
    {
      "cell_type": "code",
      "metadata": {
        "colab": {
          "base_uri": "https://localhost:8080/"
        },
        "id": "eZQNi9mTA1FQ",
        "outputId": "5b0f792b-5b45-4437-bdc8-8350918cfe9d"
      },
      "source": [
        "network_output.shape"
      ],
      "execution_count": null,
      "outputs": [
        {
          "output_type": "execute_result",
          "data": {
            "text/plain": [
              "(40539, 650)"
            ]
          },
          "metadata": {
            "tags": []
          },
          "execution_count": 36
        }
      ]
    },
    {
      "cell_type": "code",
      "metadata": {
        "id": "ubT5BNzyA2d9",
        "colab": {
          "base_uri": "https://localhost:8080/"
        },
        "outputId": "91e39f4a-75e1-496b-9310-a25b43e5c25e"
      },
      "source": [
        "#Create Model\n",
        "model = Sequential()\n",
        "model.add(LSTM(\n",
        "    512,\n",
        "    input_shape=(network_input.shape[1], network_input.shape[2]),\n",
        "    recurrent_dropout=0.2,\n",
        "    return_sequences=True\n",
        "))\n",
        "model.add(LSTM(512, return_sequences=True, recurrent_dropout=0.2))\n",
        "model.add(LSTM(256))\n",
        "\n",
        "model.add(BatchNorm())\n",
        "model.add(Dropout(0.2))\n",
        "model.add(Dense(128))\n",
        "model.add(Activation('relu'))\n",
        "model.add(BatchNorm())\n",
        "model.add(Dropout(0.2))\n",
        "\n",
        "model.add(Dense(n_vocab))\n",
        "model.add(Activation('softmax'))\n",
        "\n",
        "model.compile(loss='categorical_crossentropy', optimizer='rmsprop')"
      ],
      "execution_count": null,
      "outputs": [
        {
          "output_type": "stream",
          "text": [
            "WARNING:tensorflow:Layer lstm will not use cuDNN kernel since it doesn't meet the cuDNN kernel criteria. It will use generic GPU kernel as fallback when running on GPU\n",
            "WARNING:tensorflow:Layer lstm_1 will not use cuDNN kernel since it doesn't meet the cuDNN kernel criteria. It will use generic GPU kernel as fallback when running on GPU\n"
          ],
          "name": "stdout"
        }
      ]
    },
    {
      "cell_type": "code",
      "metadata": {
        "colab": {
          "base_uri": "https://localhost:8080/"
        },
        "id": "KlObI_V6DgaL",
        "outputId": "a105afd0-4dde-4d08-ef71-eb26339b2ab0"
      },
      "source": [
        "model.summary()"
      ],
      "execution_count": null,
      "outputs": [
        {
          "output_type": "stream",
          "text": [
            "Model: \"sequential\"\n",
            "_________________________________________________________________\n",
            "Layer (type)                 Output Shape              Param #   \n",
            "=================================================================\n",
            "lstm (LSTM)                  (None, 100, 512)          1052672   \n",
            "_________________________________________________________________\n",
            "lstm_1 (LSTM)                (None, 100, 512)          2099200   \n",
            "_________________________________________________________________\n",
            "lstm_2 (LSTM)                (None, 256)               787456    \n",
            "_________________________________________________________________\n",
            "batch_normalization (BatchNo (None, 256)               1024      \n",
            "_________________________________________________________________\n",
            "dropout (Dropout)            (None, 256)               0         \n",
            "_________________________________________________________________\n",
            "dense (Dense)                (None, 128)               32896     \n",
            "_________________________________________________________________\n",
            "activation (Activation)      (None, 128)               0         \n",
            "_________________________________________________________________\n",
            "batch_normalization_1 (Batch (None, 128)               512       \n",
            "_________________________________________________________________\n",
            "dropout_1 (Dropout)          (None, 128)               0         \n",
            "_________________________________________________________________\n",
            "dense_1 (Dense)              (None, 650)               83850     \n",
            "_________________________________________________________________\n",
            "activation_1 (Activation)    (None, 650)               0         \n",
            "=================================================================\n",
            "Total params: 4,057,610\n",
            "Trainable params: 4,056,842\n",
            "Non-trainable params: 768\n",
            "_________________________________________________________________\n"
          ],
          "name": "stdout"
        }
      ]
    },
    {
      "cell_type": "code",
      "metadata": {
        "colab": {
          "base_uri": "https://localhost:8080/",
          "height": 1000
        },
        "id": "QcpxKKXldITM",
        "outputId": "006b65a5-704e-4029-e6e1-c28ff341f941"
      },
      "source": [
        "plot_model(\n",
        "    model, to_file='model.png', show_shapes=True, show_layer_names=True,\n",
        "    rankdir='TB', expand_nested=False, dpi=96\n",
        ")"
      ],
      "execution_count": null,
      "outputs": [
        {
          "output_type": "execute_result",
          "data": {
            "image/png": "[encoded data removed]",
            "text/plain": [
              "<IPython.core.display.Image object>"
            ]
          },
          "metadata": {
            "tags": []
          },
          "execution_count": 41
        }
      ]
    },
    {
      "cell_type": "code",
      "metadata": {
        "colab": {
          "base_uri": "https://localhost:8080/"
        },
        "id": "vhRbsmfRBBjE",
        "outputId": "6889d7ed-4448-4991-aefa-907c6c54d764"
      },
      "source": [
        "# Train Model\n",
        "#model.load_weights(\"weights/weights-50.hdf5\")\n",
        "\n",
        "filepath = \"weights/weights-improvement-{epoch:02d}-{loss:.4f}.hdf5\"\n",
        "checkpoint = ModelCheckpoint(\n",
        "    filepath,\n",
        "    monitor='loss',\n",
        "    verbose=0,\n",
        "    save_best_only=True,\n",
        "    mode='min'\n",
        ")\n",
        "callbacks_list = [checkpoint]\n",
        "\n",
        "training_history = model.fit(network_input, network_output, epochs=50, batch_size=128, callbacks=callbacks_list)"
      ],
      "execution_count": 43,
      "outputs": [
        {
          "output_type": "stream",
          "text": [
            "Epoch 1/50\n",
            "317/317 [==============================] - 229s 721ms/step - loss: 5.2992\n",
            "Epoch 2/50\n",
            "317/317 [==============================] - 225s 710ms/step - loss: 4.9207\n",
            "Epoch 3/50\n",
            "317/317 [==============================] - 227s 717ms/step - loss: 4.8818\n",
            "Epoch 4/50\n",
            "317/317 [==============================] - 227s 715ms/step - loss: 4.8771\n",
            "Epoch 5/50\n",
            "317/317 [==============================] - 225s 711ms/step - loss: 4.8715\n",
            "Epoch 6/50\n",
            "317/317 [==============================] - 224s 705ms/step - loss: 4.8465\n",
            "Epoch 7/50\n",
            "317/317 [==============================] - 224s 705ms/step - loss: 4.8352\n",
            "Epoch 8/50\n",
            "317/317 [==============================] - 223s 702ms/step - loss: 4.8264\n",
            "Epoch 9/50\n",
            "317/317 [==============================] - 219s 691ms/step - loss: 4.8141\n",
            "Epoch 10/50\n",
            "317/317 [==============================] - 221s 698ms/step - loss: 4.8201\n",
            "Epoch 11/50\n",
            "317/317 [==============================] - 220s 695ms/step - loss: 4.8020\n",
            "Epoch 12/50\n",
            "317/317 [==============================] - 222s 700ms/step - loss: 4.7967\n",
            "Epoch 13/50\n",
            "317/317 [==============================] - 217s 684ms/step - loss: 4.7893\n",
            "Epoch 14/50\n",
            "317/317 [==============================] - 220s 693ms/step - loss: 4.7870\n",
            "Epoch 15/50\n",
            "317/317 [==============================] - 221s 697ms/step - loss: 4.7815\n",
            "Epoch 16/50\n",
            "317/317 [==============================] - 220s 693ms/step - loss: 4.7792\n",
            "Epoch 17/50\n",
            "317/317 [==============================] - 221s 696ms/step - loss: 4.7751\n",
            "Epoch 18/50\n",
            "317/317 [==============================] - 221s 698ms/step - loss: 4.7712\n",
            "Epoch 19/50\n",
            "317/317 [==============================] - 220s 695ms/step - loss: 4.7667\n",
            "Epoch 20/50\n",
            "317/317 [==============================] - 219s 690ms/step - loss: 4.7682\n",
            "Epoch 21/50\n",
            "317/317 [==============================] - 220s 695ms/step - loss: 4.7637\n",
            "Epoch 22/50\n",
            "317/317 [==============================] - 218s 688ms/step - loss: 4.7631\n",
            "Epoch 23/50\n",
            "317/317 [==============================] - 218s 687ms/step - loss: 4.7596\n",
            "Epoch 24/50\n",
            "317/317 [==============================] - 224s 707ms/step - loss: 4.7585\n",
            "Epoch 25/50\n",
            "317/317 [==============================] - 225s 711ms/step - loss: 4.7581\n",
            "Epoch 26/50\n",
            "317/317 [==============================] - 223s 705ms/step - loss: 4.7579\n",
            "Epoch 27/50\n",
            "317/317 [==============================] - 225s 710ms/step - loss: 4.7539\n",
            "Epoch 28/50\n",
            "317/317 [==============================] - 225s 710ms/step - loss: 4.7550\n",
            "Epoch 29/50\n",
            "317/317 [==============================] - 224s 706ms/step - loss: 4.7531\n",
            "Epoch 30/50\n",
            "317/317 [==============================] - 221s 697ms/step - loss: 4.7536\n",
            "Epoch 31/50\n",
            "317/317 [==============================] - 222s 701ms/step - loss: 4.7511\n",
            "Epoch 32/50\n",
            "317/317 [==============================] - 222s 701ms/step - loss: 4.7511\n",
            "Epoch 33/50\n",
            "317/317 [==============================] - 223s 704ms/step - loss: 4.7496\n",
            "Epoch 34/50\n",
            "317/317 [==============================] - 221s 698ms/step - loss: 4.7476\n",
            "Epoch 35/50\n",
            "317/317 [==============================] - 222s 701ms/step - loss: 4.7469\n",
            "Epoch 36/50\n",
            "317/317 [==============================] - 222s 702ms/step - loss: 4.7458\n",
            "Epoch 37/50\n",
            "317/317 [==============================] - 222s 700ms/step - loss: 4.7475\n",
            "Epoch 38/50\n",
            "317/317 [==============================] - 223s 703ms/step - loss: 4.7453\n",
            "Epoch 39/50\n",
            "317/317 [==============================] - 222s 700ms/step - loss: 4.7452\n",
            "Epoch 40/50\n",
            "317/317 [==============================] - 220s 695ms/step - loss: 4.7454\n",
            "Epoch 41/50\n",
            "317/317 [==============================] - 220s 694ms/step - loss: 4.7483\n",
            "Epoch 42/50\n",
            "317/317 [==============================] - 226s 713ms/step - loss: 4.7458\n",
            "Epoch 43/50\n",
            "317/317 [==============================] - 225s 709ms/step - loss: 4.7450\n",
            "Epoch 44/50\n",
            "317/317 [==============================] - 227s 716ms/step - loss: 4.7384\n",
            "Epoch 45/50\n",
            "317/317 [==============================] - 225s 711ms/step - loss: 4.7404\n",
            "Epoch 46/50\n",
            "317/317 [==============================] - 226s 711ms/step - loss: 4.7400\n",
            "Epoch 47/50\n",
            "317/317 [==============================] - 227s 715ms/step - loss: 4.7366\n",
            "Epoch 48/50\n",
            "317/317 [==============================] - 224s 708ms/step - loss: 4.7324\n",
            "Epoch 49/50\n",
            "317/317 [==============================] - 221s 698ms/step - loss: 4.7351\n",
            "Epoch 50/50\n",
            "317/317 [==============================] - 225s 710ms/step - loss: 4.7329\n"
          ],
          "name": "stdout"
        }
      ]
    },
    {
      "cell_type": "code",
      "metadata": {
        "id": "9VuYbwPnSLCR"
      },
      "source": [
        "model.save_weights(\"weights/weights-50.hdf5\")"
      ],
      "execution_count": 44,
      "outputs": []
    },
    {
      "cell_type": "code",
      "metadata": {
        "colab": {
          "base_uri": "https://localhost:8080/",
          "height": 297
        },
        "id": "xXtTJ1w4Lc_p",
        "outputId": "c4d00210-bade-4538-8337-e8d9e2f28bcd"
      },
      "source": [
        "# Saving plots\n",
        "import matplotlib.pyplot as plt\n",
        "import pandas as pd\n",
        "\n",
        "loss = training_history.history['loss']\n",
        "\n",
        "epochs = range(len(loss))\n",
        "\n",
        "plt.plot(epochs, loss, 'r', label='Loss')\n",
        "plt.title('Training Loss')\n",
        "plt.legend(loc=0)\n",
        "plt.figure()\n",
        "\n",
        "\n",
        "plt.show()\n",
        "\n",
        "# convert the training_history.history dict to a pandas DataFrame:     \n",
        "hist_df = pd.DataFrame(training_history.history) \n",
        "\n",
        "# save to json:  \n",
        "hist_json_file = 'history.json' \n",
        "with open(hist_json_file, mode='w') as f:\n",
        "    hist_df.to_json(f)"
      ],
      "execution_count": 45,
      "outputs": [
        {
          "output_type": "display_data",
          "data": {
            "image/png": "[encoded data removed]",
            "text/plain": [
              "<Figure size 432x288 with 1 Axes>"
            ]
          },
          "metadata": {
            "tags": [],
            "image/png": {
              "width": 372,
              "height": 263
            },
            "needs_background": "light"
          }
        },
        {
          "output_type": "display_data",
          "data": {
            "text/plain": [
              "<Figure size 432x288 with 0 Axes>"
            ]
          },
          "metadata": {
            "tags": []
          }
        }
      ]
    }
  ]
}